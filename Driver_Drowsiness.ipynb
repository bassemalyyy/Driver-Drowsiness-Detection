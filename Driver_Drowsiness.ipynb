{
  "cells": [
    {
      "cell_type": "code",
      "execution_count": 1,
      "metadata": {
        "colab": {
          "base_uri": "https://localhost:8080/"
        },
        "collapsed": true,
        "id": "RbSyvbFQ4TQm",
        "outputId": "4f776dac-b155-41a3-c6d1-9cb9a889aedc"
      },
      "outputs": [
        {
          "name": "stdout",
          "output_type": "stream",
          "text": [
            "File ‘shape_predictor_68_face_landmarks.dat.bz2’ already there; not retrieving.\n",
            "\n",
            "bunzip2: Output file shape_predictor_68_face_landmarks.dat already exists.\n"
          ]
        }
      ],
      "source": [
        "# Download the shape predictor if not already present\n",
        "!wget -nc http://dlib.net/files/shape_predictor_68_face_landmarks.dat.bz2\n",
        "!bunzip2 -k shape_predictor_68_face_landmarks.dat.bz2  # Keep the compressed file"
      ]
    },
    {
      "cell_type": "code",
      "execution_count": null,
      "metadata": {
        "colab": {
          "base_uri": "https://localhost:8080/",
          "height": 1000
        },
        "collapsed": true,
        "id": "ibZIFn_l3a6V",
        "outputId": "f331c231-d052-4f33-fac6-3db3762167d8"
      },
      "outputs": [],
      "source": [
        "# Import required libraries\n",
        "import cv2\n",
        "import dlib\n",
        "import numpy as np\n",
        "from scipy.spatial import distance\n",
        "from google.colab import files\n",
        "from google.colab.patches import cv2_imshow\n",
        "\n",
        "# Function to calculate the eye aspect ratio (EAR)\n",
        "def calculate_eye_aspect_ratio(eye):\n",
        "    A = distance.euclidean(eye[1], eye[5])\n",
        "    B = distance.euclidean(eye[2], eye[4])\n",
        "    C = distance.euclidean(eye[0], eye[3])\n",
        "    ear = (A + B) / (2.0 * C)\n",
        "    return ear\n",
        "\n",
        "# Upload shape_predictor_68_face_landmarks.dat if needed\n",
        "try:\n",
        "    predictor_path = \"shape_predictor_68_face_landmarks.dat\"\n",
        "    with open(predictor_path, 'r') as f:\n",
        "        print(f\"{predictor_path} is already available.\")\n",
        "except FileNotFoundError:\n",
        "    print(\"Upload the shape_predictor_68_face_landmarks.dat file:\")\n",
        "    uploaded = files.upload()\n",
        "    predictor_path = list(uploaded.keys())[0]\n",
        "\n",
        "# Load the face detector and facial landmarks predictor from dlib\n",
        "detector = dlib.get_frontal_face_detector()\n",
        "predictor = dlib.shape_predictor(predictor_path)\n",
        "\n",
        "# Define the eye aspect ratio threshold for drowsiness detection\n",
        "EAR_THRESHOLD = 0.3\n",
        "\n",
        "# Open the video file\n",
        "video_path = \"/content/Video1.mp4\"\n",
        "cap = cv2.VideoCapture(video_path)\n",
        "\n",
        "# Check if the video file was opened successfully\n",
        "if not cap.isOpened():\n",
        "    print(f\"Error: Could not open video file {video_path}\")\n",
        "else:\n",
        "    while cap.isOpened():\n",
        "        # Read a frame from the video\n",
        "        ret, frame = cap.read()\n",
        "        if not ret:\n",
        "            print(\"End of video or unable to read frame.\")\n",
        "            break\n",
        "\n",
        "        # Convert the frame to grayscale\n",
        "        gray = cv2.cvtColor(frame, cv2.COLOR_BGR2GRAY)\n",
        "\n",
        "        # Detect faces in the grayscale frame\n",
        "        faces = detector(gray)\n",
        "\n",
        "        for face in faces:\n",
        "            # Predict the facial landmarks\n",
        "            shape = predictor(gray, face)\n",
        "            shape = np.array([[shape.part(i).x, shape.part(i).y] for i in range(68)])\n",
        "\n",
        "            # Extract the left and right eye coordinates\n",
        "            left_eye = shape[42:48]\n",
        "            right_eye = shape[36:42]\n",
        "\n",
        "            # Calculate the eye aspect ratios\n",
        "            left_ear = calculate_eye_aspect_ratio(left_eye)\n",
        "            right_ear = calculate_eye_aspect_ratio(right_eye)\n",
        "\n",
        "            # Compute the average eye aspect ratio\n",
        "            avg_ear = (left_ear + right_ear) / 2.0\n",
        "\n",
        "            # Check if the average eye aspect ratio is below the threshold\n",
        "            if avg_ear < EAR_THRESHOLD:\n",
        "                cv2.putText(frame, \"Drowsy\", (10, 30),\n",
        "                            cv2.FONT_HERSHEY_SIMPLEX, 0.7, (0, 0, 255), 2)\n",
        "\n",
        "            # Draw the eye contours for visualization\n",
        "            for point in left_eye:\n",
        "                cv2.circle(frame, tuple(point), 2, (255, 0, 0), -1)\n",
        "            for point in right_eye:\n",
        "                cv2.circle(frame, tuple(point), 2, (255, 0, 0), -1)\n",
        "\n",
        "        # Display the frame\n",
        "        cv2_imshow(frame)\n",
        "\n",
        "        # Break loop if user presses 'q' (not applicable in Colab)\n",
        "        if cv2.waitKey(1) & 0xFF == ord('q'):\n",
        "            break\n",
        "\n",
        "    # Release the video file and close all windows\n",
        "    cap.release()\n",
        "    cv2.destroyAllWindows()"
      ]
    }
  ],
  "metadata": {
    "colab": {
      "provenance": []
    },
    "kernelspec": {
      "display_name": "Python 3",
      "name": "python3"
    },
    "language_info": {
      "name": "python",
      "version": "3.13.0"
    }
  },
  "nbformat": 4,
  "nbformat_minor": 0
}
